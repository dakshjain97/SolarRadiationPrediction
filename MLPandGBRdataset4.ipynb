{
 "cells": [
  {
   "cell_type": "code",
   "execution_count": 1,
   "metadata": {
    "collapsed": true
   },
   "outputs": [],
   "source": [
    "from sklearn.linear_model import LinearRegression\n",
    "from sklearn.preprocessing import LabelEncoder\n",
    "from sklearn import preprocessing\n",
    "import matplotlib.pyplot as plt\n",
    "import pandas as pd\n",
    "import numpy as np\n",
    "from sklearn.ensemble import RandomForestRegressor, GradientBoostingRegressor"
   ]
  },
  {
   "cell_type": "code",
   "execution_count": 2,
   "metadata": {
    "collapsed": true
   },
   "outputs": [],
   "source": [
    "from sklearn.preprocessing import normalize"
   ]
  },
  {
   "cell_type": "code",
   "execution_count": 3,
   "metadata": {
    "collapsed": true
   },
   "outputs": [],
   "source": [
    "df1=pd.read_csv(\"dataset4.csv\")"
   ]
  },
  {
   "cell_type": "code",
   "execution_count": null,
   "metadata": {
    "collapsed": true
   },
   "outputs": [],
   "source": []
  },
  {
   "cell_type": "code",
   "execution_count": 4,
   "metadata": {
    "collapsed": true
   },
   "outputs": [],
   "source": [
    "df = pd.DataFrame(columns=['Year','Month','Day','Hour','DewPoint','Temperature','Pressure','RelativeHumidity','WindDirection','WindSpeed','Radiation'])"
   ]
  },
  {
   "cell_type": "code",
   "execution_count": 5,
   "metadata": {},
   "outputs": [
    {
     "data": {
      "text/plain": [
       "(87600, 14)"
      ]
     },
     "execution_count": 5,
     "metadata": {},
     "output_type": "execute_result"
    }
   ],
   "source": [
    "df1.shape"
   ]
  },
  {
   "cell_type": "code",
   "execution_count": 6,
   "metadata": {
    "collapsed": true
   },
   "outputs": [],
   "source": [
    "#df.loc[0]=df1.iloc[0].tolist()"
   ]
  },
  {
   "cell_type": "code",
   "execution_count": null,
   "metadata": {
    "collapsed": true
   },
   "outputs": [],
   "source": []
  },
  {
   "cell_type": "code",
   "execution_count": 7,
   "metadata": {},
   "outputs": [
    {
     "data": {
      "text/plain": [
       "(87600, 14)"
      ]
     },
     "execution_count": 7,
     "metadata": {},
     "output_type": "execute_result"
    }
   ],
   "source": [
    "df1.shape"
   ]
  },
  {
   "cell_type": "code",
   "execution_count": 8,
   "metadata": {},
   "outputs": [
    {
     "data": {
      "text/html": [
       "<div>\n",
       "<style scoped>\n",
       "    .dataframe tbody tr th:only-of-type {\n",
       "        vertical-align: middle;\n",
       "    }\n",
       "\n",
       "    .dataframe tbody tr th {\n",
       "        vertical-align: top;\n",
       "    }\n",
       "\n",
       "    .dataframe thead th {\n",
       "        text-align: right;\n",
       "    }\n",
       "</style>\n",
       "<table border=\"1\" class=\"dataframe\">\n",
       "  <thead>\n",
       "    <tr style=\"text-align: right;\">\n",
       "      <th></th>\n",
       "      <th>Year</th>\n",
       "      <th>Month</th>\n",
       "      <th>Day</th>\n",
       "      <th>Hour</th>\n",
       "      <th>Minute</th>\n",
       "      <th>DHI</th>\n",
       "      <th>DNI</th>\n",
       "      <th>GHI</th>\n",
       "      <th>Dew Point</th>\n",
       "      <th>Temperature</th>\n",
       "      <th>Pressure</th>\n",
       "      <th>Relative Humidity</th>\n",
       "      <th>Wind Direction</th>\n",
       "      <th>Wind Speed</th>\n",
       "    </tr>\n",
       "  </thead>\n",
       "  <tbody>\n",
       "    <tr>\n",
       "      <th>0</th>\n",
       "      <td>2000</td>\n",
       "      <td>1</td>\n",
       "      <td>1</td>\n",
       "      <td>0</td>\n",
       "      <td>30</td>\n",
       "      <td>0</td>\n",
       "      <td>0</td>\n",
       "      <td>0</td>\n",
       "      <td>-3</td>\n",
       "      <td>14.778039</td>\n",
       "      <td>994.269836</td>\n",
       "      <td>27.329543</td>\n",
       "      <td>339.041626</td>\n",
       "      <td>3.702735</td>\n",
       "    </tr>\n",
       "    <tr>\n",
       "      <th>1</th>\n",
       "      <td>2000</td>\n",
       "      <td>1</td>\n",
       "      <td>1</td>\n",
       "      <td>1</td>\n",
       "      <td>30</td>\n",
       "      <td>0</td>\n",
       "      <td>0</td>\n",
       "      <td>0</td>\n",
       "      <td>-3</td>\n",
       "      <td>14.218056</td>\n",
       "      <td>993.870117</td>\n",
       "      <td>28.263948</td>\n",
       "      <td>340.233826</td>\n",
       "      <td>3.581766</td>\n",
       "    </tr>\n",
       "    <tr>\n",
       "      <th>2</th>\n",
       "      <td>2000</td>\n",
       "      <td>1</td>\n",
       "      <td>1</td>\n",
       "      <td>2</td>\n",
       "      <td>30</td>\n",
       "      <td>0</td>\n",
       "      <td>0</td>\n",
       "      <td>0</td>\n",
       "      <td>-3</td>\n",
       "      <td>13.661125</td>\n",
       "      <td>993.604187</td>\n",
       "      <td>29.154896</td>\n",
       "      <td>343.697754</td>\n",
       "      <td>3.455006</td>\n",
       "    </tr>\n",
       "    <tr>\n",
       "      <th>3</th>\n",
       "      <td>2000</td>\n",
       "      <td>1</td>\n",
       "      <td>1</td>\n",
       "      <td>3</td>\n",
       "      <td>30</td>\n",
       "      <td>0</td>\n",
       "      <td>0</td>\n",
       "      <td>0</td>\n",
       "      <td>-3</td>\n",
       "      <td>13.080752</td>\n",
       "      <td>993.435303</td>\n",
       "      <td>30.287902</td>\n",
       "      <td>348.477539</td>\n",
       "      <td>3.384878</td>\n",
       "    </tr>\n",
       "    <tr>\n",
       "      <th>4</th>\n",
       "      <td>2000</td>\n",
       "      <td>1</td>\n",
       "      <td>1</td>\n",
       "      <td>4</td>\n",
       "      <td>30</td>\n",
       "      <td>0</td>\n",
       "      <td>0</td>\n",
       "      <td>0</td>\n",
       "      <td>-3</td>\n",
       "      <td>12.547452</td>\n",
       "      <td>993.758118</td>\n",
       "      <td>31.387400</td>\n",
       "      <td>353.976837</td>\n",
       "      <td>3.370268</td>\n",
       "    </tr>\n",
       "  </tbody>\n",
       "</table>\n",
       "</div>"
      ],
      "text/plain": [
       "   Year  Month  Day  Hour  Minute  DHI  DNI  GHI  Dew Point  Temperature  \\\n",
       "0  2000      1    1     0      30    0    0    0         -3    14.778039   \n",
       "1  2000      1    1     1      30    0    0    0         -3    14.218056   \n",
       "2  2000      1    1     2      30    0    0    0         -3    13.661125   \n",
       "3  2000      1    1     3      30    0    0    0         -3    13.080752   \n",
       "4  2000      1    1     4      30    0    0    0         -3    12.547452   \n",
       "\n",
       "     Pressure  Relative Humidity  Wind Direction  Wind Speed  \n",
       "0  994.269836          27.329543      339.041626    3.702735  \n",
       "1  993.870117          28.263948      340.233826    3.581766  \n",
       "2  993.604187          29.154896      343.697754    3.455006  \n",
       "3  993.435303          30.287902      348.477539    3.384878  \n",
       "4  993.758118          31.387400      353.976837    3.370268  "
      ]
     },
     "execution_count": 8,
     "metadata": {},
     "output_type": "execute_result"
    }
   ],
   "source": [
    "df1.head()"
   ]
  },
  {
   "cell_type": "code",
   "execution_count": 9,
   "metadata": {
    "collapsed": true
   },
   "outputs": [],
   "source": [
    "df1.columns=['Year','Month','Day','Hour','Minute','DHI','DNI','GHI','DewPoint','Temperature','Pressure','RelativeHumidity','WindDirection','WindSpeed']"
   ]
  },
  {
   "cell_type": "code",
   "execution_count": 10,
   "metadata": {},
   "outputs": [
    {
     "data": {
      "text/html": [
       "<div>\n",
       "<style scoped>\n",
       "    .dataframe tbody tr th:only-of-type {\n",
       "        vertical-align: middle;\n",
       "    }\n",
       "\n",
       "    .dataframe tbody tr th {\n",
       "        vertical-align: top;\n",
       "    }\n",
       "\n",
       "    .dataframe thead th {\n",
       "        text-align: right;\n",
       "    }\n",
       "</style>\n",
       "<table border=\"1\" class=\"dataframe\">\n",
       "  <thead>\n",
       "    <tr style=\"text-align: right;\">\n",
       "      <th></th>\n",
       "      <th>Year</th>\n",
       "      <th>Month</th>\n",
       "      <th>Day</th>\n",
       "      <th>Hour</th>\n",
       "      <th>Minute</th>\n",
       "      <th>DHI</th>\n",
       "      <th>DNI</th>\n",
       "      <th>GHI</th>\n",
       "      <th>DewPoint</th>\n",
       "      <th>Temperature</th>\n",
       "      <th>Pressure</th>\n",
       "      <th>RelativeHumidity</th>\n",
       "      <th>WindDirection</th>\n",
       "      <th>WindSpeed</th>\n",
       "    </tr>\n",
       "  </thead>\n",
       "  <tbody>\n",
       "    <tr>\n",
       "      <th>0</th>\n",
       "      <td>2000</td>\n",
       "      <td>1</td>\n",
       "      <td>1</td>\n",
       "      <td>0</td>\n",
       "      <td>30</td>\n",
       "      <td>0</td>\n",
       "      <td>0</td>\n",
       "      <td>0</td>\n",
       "      <td>-3</td>\n",
       "      <td>14.778039</td>\n",
       "      <td>994.269836</td>\n",
       "      <td>27.329543</td>\n",
       "      <td>339.041626</td>\n",
       "      <td>3.702735</td>\n",
       "    </tr>\n",
       "    <tr>\n",
       "      <th>1</th>\n",
       "      <td>2000</td>\n",
       "      <td>1</td>\n",
       "      <td>1</td>\n",
       "      <td>1</td>\n",
       "      <td>30</td>\n",
       "      <td>0</td>\n",
       "      <td>0</td>\n",
       "      <td>0</td>\n",
       "      <td>-3</td>\n",
       "      <td>14.218056</td>\n",
       "      <td>993.870117</td>\n",
       "      <td>28.263948</td>\n",
       "      <td>340.233826</td>\n",
       "      <td>3.581766</td>\n",
       "    </tr>\n",
       "    <tr>\n",
       "      <th>2</th>\n",
       "      <td>2000</td>\n",
       "      <td>1</td>\n",
       "      <td>1</td>\n",
       "      <td>2</td>\n",
       "      <td>30</td>\n",
       "      <td>0</td>\n",
       "      <td>0</td>\n",
       "      <td>0</td>\n",
       "      <td>-3</td>\n",
       "      <td>13.661125</td>\n",
       "      <td>993.604187</td>\n",
       "      <td>29.154896</td>\n",
       "      <td>343.697754</td>\n",
       "      <td>3.455006</td>\n",
       "    </tr>\n",
       "    <tr>\n",
       "      <th>3</th>\n",
       "      <td>2000</td>\n",
       "      <td>1</td>\n",
       "      <td>1</td>\n",
       "      <td>3</td>\n",
       "      <td>30</td>\n",
       "      <td>0</td>\n",
       "      <td>0</td>\n",
       "      <td>0</td>\n",
       "      <td>-3</td>\n",
       "      <td>13.080752</td>\n",
       "      <td>993.435303</td>\n",
       "      <td>30.287902</td>\n",
       "      <td>348.477539</td>\n",
       "      <td>3.384878</td>\n",
       "    </tr>\n",
       "    <tr>\n",
       "      <th>4</th>\n",
       "      <td>2000</td>\n",
       "      <td>1</td>\n",
       "      <td>1</td>\n",
       "      <td>4</td>\n",
       "      <td>30</td>\n",
       "      <td>0</td>\n",
       "      <td>0</td>\n",
       "      <td>0</td>\n",
       "      <td>-3</td>\n",
       "      <td>12.547452</td>\n",
       "      <td>993.758118</td>\n",
       "      <td>31.387400</td>\n",
       "      <td>353.976837</td>\n",
       "      <td>3.370268</td>\n",
       "    </tr>\n",
       "  </tbody>\n",
       "</table>\n",
       "</div>"
      ],
      "text/plain": [
       "   Year  Month  Day  Hour  Minute  DHI  DNI  GHI  DewPoint  Temperature  \\\n",
       "0  2000      1    1     0      30    0    0    0        -3    14.778039   \n",
       "1  2000      1    1     1      30    0    0    0        -3    14.218056   \n",
       "2  2000      1    1     2      30    0    0    0        -3    13.661125   \n",
       "3  2000      1    1     3      30    0    0    0        -3    13.080752   \n",
       "4  2000      1    1     4      30    0    0    0        -3    12.547452   \n",
       "\n",
       "     Pressure  RelativeHumidity  WindDirection  WindSpeed  \n",
       "0  994.269836         27.329543     339.041626   3.702735  \n",
       "1  993.870117         28.263948     340.233826   3.581766  \n",
       "2  993.604187         29.154896     343.697754   3.455006  \n",
       "3  993.435303         30.287902     348.477539   3.384878  \n",
       "4  993.758118         31.387400     353.976837   3.370268  "
      ]
     },
     "execution_count": 10,
     "metadata": {},
     "output_type": "execute_result"
    }
   ],
   "source": [
    "df1.head()"
   ]
  },
  {
   "cell_type": "code",
   "execution_count": 11,
   "metadata": {},
   "outputs": [
    {
     "data": {
      "image/png": "[encoded data removed]",
      "text/plain": [
       "<Figure size 720x720 with 16 Axes>"
      ]
     },
     "metadata": {},
     "output_type": "display_data"
    }
   ],
   "source": [
    "df1.hist(figsize=(10,10))\n",
    "plt.show()"
   ]
  },
  {
   "cell_type": "code",
   "execution_count": 12,
   "metadata": {},
   "outputs": [
    {
     "data": {
      "image/png": "[encoded data removed]",
      "text/plain": [
       "<Figure size 432x288 with 1 Axes>"
      ]
     },
     "metadata": {},
     "output_type": "display_data"
    }
   ],
   "source": [
    "plt.scatter(df1.Hour,df1.GHI,color='blue')\n",
    "plt.xlabel(\"Hour of each day\")\n",
    "plt.ylabel(\"Radiation\")\n",
    "plt.title(\"Graph\")\n",
    "plt.show()"
   ]
  },
  {
   "cell_type": "code",
   "execution_count": 13,
   "metadata": {
    "collapsed": true
   },
   "outputs": [],
   "source": [
    "i=0\n",
    "k=0\n",
    "while k<=87599:\n",
    "    if(df1.iloc[i].Hour<6 or df1.iloc[i].Hour>18):\n",
    "        df1=df1.drop(df1.index[i])\n",
    "        i=i-1\n",
    "    i=i+1\n",
    "    k=k+1"
   ]
  },
  {
   "cell_type": "code",
   "execution_count": 14,
   "metadata": {},
   "outputs": [
    {
     "data": {
      "text/html": [
       "<div>\n",
       "<style scoped>\n",
       "    .dataframe tbody tr th:only-of-type {\n",
       "        vertical-align: middle;\n",
       "    }\n",
       "\n",
       "    .dataframe tbody tr th {\n",
       "        vertical-align: top;\n",
       "    }\n",
       "\n",
       "    .dataframe thead th {\n",
       "        text-align: right;\n",
       "    }\n",
       "</style>\n",
       "<table border=\"1\" class=\"dataframe\">\n",
       "  <thead>\n",
       "    <tr style=\"text-align: right;\">\n",
       "      <th></th>\n",
       "      <th>Year</th>\n",
       "      <th>Month</th>\n",
       "      <th>Day</th>\n",
       "      <th>Hour</th>\n",
       "      <th>Minute</th>\n",
       "      <th>DHI</th>\n",
       "      <th>DNI</th>\n",
       "      <th>GHI</th>\n",
       "      <th>DewPoint</th>\n",
       "      <th>Temperature</th>\n",
       "      <th>Pressure</th>\n",
       "      <th>RelativeHumidity</th>\n",
       "      <th>WindDirection</th>\n",
       "      <th>WindSpeed</th>\n",
       "    </tr>\n",
       "  </thead>\n",
       "  <tbody>\n",
       "    <tr>\n",
       "      <th>6</th>\n",
       "      <td>2000</td>\n",
       "      <td>1</td>\n",
       "      <td>1</td>\n",
       "      <td>6</td>\n",
       "      <td>30</td>\n",
       "      <td>0</td>\n",
       "      <td>0</td>\n",
       "      <td>0</td>\n",
       "      <td>-7</td>\n",
       "      <td>11.482912</td>\n",
       "      <td>995.728577</td>\n",
       "      <td>25.202363</td>\n",
       "      <td>49.919121</td>\n",
       "      <td>3.481939</td>\n",
       "    </tr>\n",
       "    <tr>\n",
       "      <th>7</th>\n",
       "      <td>2000</td>\n",
       "      <td>1</td>\n",
       "      <td>1</td>\n",
       "      <td>7</td>\n",
       "      <td>30</td>\n",
       "      <td>0</td>\n",
       "      <td>0</td>\n",
       "      <td>0</td>\n",
       "      <td>-6</td>\n",
       "      <td>12.043572</td>\n",
       "      <td>996.485596</td>\n",
       "      <td>27.145503</td>\n",
       "      <td>51.650745</td>\n",
       "      <td>3.553532</td>\n",
       "    </tr>\n",
       "    <tr>\n",
       "      <th>8</th>\n",
       "      <td>2000</td>\n",
       "      <td>1</td>\n",
       "      <td>1</td>\n",
       "      <td>8</td>\n",
       "      <td>30</td>\n",
       "      <td>75</td>\n",
       "      <td>348</td>\n",
       "      <td>141</td>\n",
       "      <td>-4</td>\n",
       "      <td>14.925156</td>\n",
       "      <td>997.046448</td>\n",
       "      <td>25.142146</td>\n",
       "      <td>55.660366</td>\n",
       "      <td>3.210883</td>\n",
       "    </tr>\n",
       "    <tr>\n",
       "      <th>9</th>\n",
       "      <td>2000</td>\n",
       "      <td>1</td>\n",
       "      <td>1</td>\n",
       "      <td>9</td>\n",
       "      <td>30</td>\n",
       "      <td>121</td>\n",
       "      <td>614</td>\n",
       "      <td>347</td>\n",
       "      <td>-3</td>\n",
       "      <td>18.349069</td>\n",
       "      <td>997.736328</td>\n",
       "      <td>23.041257</td>\n",
       "      <td>57.932251</td>\n",
       "      <td>2.544075</td>\n",
       "    </tr>\n",
       "    <tr>\n",
       "      <th>10</th>\n",
       "      <td>2000</td>\n",
       "      <td>1</td>\n",
       "      <td>1</td>\n",
       "      <td>10</td>\n",
       "      <td>30</td>\n",
       "      <td>134</td>\n",
       "      <td>726</td>\n",
       "      <td>507</td>\n",
       "      <td>-1</td>\n",
       "      <td>22.649213</td>\n",
       "      <td>997.539062</td>\n",
       "      <td>19.631354</td>\n",
       "      <td>61.001606</td>\n",
       "      <td>2.097124</td>\n",
       "    </tr>\n",
       "  </tbody>\n",
       "</table>\n",
       "</div>"
      ],
      "text/plain": [
       "    Year  Month  Day  Hour  Minute  DHI  DNI  GHI  DewPoint  Temperature  \\\n",
       "6   2000      1    1     6      30    0    0    0        -7    11.482912   \n",
       "7   2000      1    1     7      30    0    0    0        -6    12.043572   \n",
       "8   2000      1    1     8      30   75  348  141        -4    14.925156   \n",
       "9   2000      1    1     9      30  121  614  347        -3    18.349069   \n",
       "10  2000      1    1    10      30  134  726  507        -1    22.649213   \n",
       "\n",
       "      Pressure  RelativeHumidity  WindDirection  WindSpeed  \n",
       "6   995.728577         25.202363      49.919121   3.481939  \n",
       "7   996.485596         27.145503      51.650745   3.553532  \n",
       "8   997.046448         25.142146      55.660366   3.210883  \n",
       "9   997.736328         23.041257      57.932251   2.544075  \n",
       "10  997.539062         19.631354      61.001606   2.097124  "
      ]
     },
     "execution_count": 14,
     "metadata": {},
     "output_type": "execute_result"
    }
   ],
   "source": [
    "df1.head()"
   ]
  },
  {
   "cell_type": "code",
   "execution_count": null,
   "metadata": {
    "collapsed": true
   },
   "outputs": [],
   "source": []
  },
  {
   "cell_type": "code",
   "execution_count": 15,
   "metadata": {
    "collapsed": true
   },
   "outputs": [],
   "source": [
    "df1=df1.drop(['Year'],axis=1)"
   ]
  },
  {
   "cell_type": "code",
   "execution_count": 16,
   "metadata": {
    "collapsed": true
   },
   "outputs": [],
   "source": [
    "df1=df1.drop(['WindDirection'],axis=1)"
   ]
  },
  {
   "cell_type": "code",
   "execution_count": 17,
   "metadata": {
    "collapsed": true
   },
   "outputs": [],
   "source": [
    "df1=df1.drop(['Month'],axis=1)"
   ]
  },
  {
   "cell_type": "code",
   "execution_count": 18,
   "metadata": {
    "collapsed": true
   },
   "outputs": [],
   "source": [
    "df1=df1.drop(['Day'],axis=1)"
   ]
  },
  {
   "cell_type": "code",
   "execution_count": 19,
   "metadata": {
    "collapsed": true
   },
   "outputs": [],
   "source": [
    "df1=df1.drop(['Minute'],axis=1)"
   ]
  },
  {
   "cell_type": "code",
   "execution_count": 20,
   "metadata": {
    "collapsed": true
   },
   "outputs": [],
   "source": [
    "df1=df1.drop(['DHI'],axis=1)"
   ]
  },
  {
   "cell_type": "code",
   "execution_count": 21,
   "metadata": {
    "collapsed": true
   },
   "outputs": [],
   "source": [
    "df1=df1.drop(['DNI'],axis=1)"
   ]
  },
  {
   "cell_type": "code",
   "execution_count": 22,
   "metadata": {
    "collapsed": true
   },
   "outputs": [],
   "source": [
    "df2=df1"
   ]
  },
  {
   "cell_type": "code",
   "execution_count": 23,
   "metadata": {
    "collapsed": true
   },
   "outputs": [],
   "source": [
    "df1=df1.div(df1.sum(axis=1), axis=0)"
   ]
  },
  {
   "cell_type": "code",
   "execution_count": 24,
   "metadata": {},
   "outputs": [
    {
     "data": {
      "text/html": [
       "<div>\n",
       "<style scoped>\n",
       "    .dataframe tbody tr th:only-of-type {\n",
       "        vertical-align: middle;\n",
       "    }\n",
       "\n",
       "    .dataframe tbody tr th {\n",
       "        vertical-align: top;\n",
       "    }\n",
       "\n",
       "    .dataframe thead th {\n",
       "        text-align: right;\n",
       "    }\n",
       "</style>\n",
       "<table border=\"1\" class=\"dataframe\">\n",
       "  <thead>\n",
       "    <tr style=\"text-align: right;\">\n",
       "      <th></th>\n",
       "      <th>Hour</th>\n",
       "      <th>GHI</th>\n",
       "      <th>DewPoint</th>\n",
       "      <th>Temperature</th>\n",
       "      <th>Pressure</th>\n",
       "      <th>RelativeHumidity</th>\n",
       "      <th>WindSpeed</th>\n",
       "    </tr>\n",
       "  </thead>\n",
       "  <tbody>\n",
       "    <tr>\n",
       "      <th>6</th>\n",
       "      <td>0.005798</td>\n",
       "      <td>0.000000</td>\n",
       "      <td>-0.006764</td>\n",
       "      <td>0.011096</td>\n",
       "      <td>0.962153</td>\n",
       "      <td>0.024353</td>\n",
       "      <td>0.003365</td>\n",
       "    </tr>\n",
       "    <tr>\n",
       "      <th>7</th>\n",
       "      <td>0.006729</td>\n",
       "      <td>0.000000</td>\n",
       "      <td>-0.005768</td>\n",
       "      <td>0.011578</td>\n",
       "      <td>0.957949</td>\n",
       "      <td>0.026096</td>\n",
       "      <td>0.003416</td>\n",
       "    </tr>\n",
       "    <tr>\n",
       "      <th>8</th>\n",
       "      <td>0.006749</td>\n",
       "      <td>0.118955</td>\n",
       "      <td>-0.003375</td>\n",
       "      <td>0.012592</td>\n",
       "      <td>0.841159</td>\n",
       "      <td>0.021211</td>\n",
       "      <td>0.002709</td>\n",
       "    </tr>\n",
       "    <tr>\n",
       "      <th>9</th>\n",
       "      <td>0.006453</td>\n",
       "      <td>0.248804</td>\n",
       "      <td>-0.002151</td>\n",
       "      <td>0.013157</td>\n",
       "      <td>0.715392</td>\n",
       "      <td>0.016521</td>\n",
       "      <td>0.001824</td>\n",
       "    </tr>\n",
       "    <tr>\n",
       "      <th>10</th>\n",
       "      <td>0.006419</td>\n",
       "      <td>0.325435</td>\n",
       "      <td>-0.000642</td>\n",
       "      <td>0.014538</td>\n",
       "      <td>0.640303</td>\n",
       "      <td>0.012601</td>\n",
       "      <td>0.001346</td>\n",
       "    </tr>\n",
       "  </tbody>\n",
       "</table>\n",
       "</div>"
      ],
      "text/plain": [
       "        Hour       GHI  DewPoint  Temperature  Pressure  RelativeHumidity  \\\n",
       "6   0.005798  0.000000 -0.006764     0.011096  0.962153          0.024353   \n",
       "7   0.006729  0.000000 -0.005768     0.011578  0.957949          0.026096   \n",
       "8   0.006749  0.118955 -0.003375     0.012592  0.841159          0.021211   \n",
       "9   0.006453  0.248804 -0.002151     0.013157  0.715392          0.016521   \n",
       "10  0.006419  0.325435 -0.000642     0.014538  0.640303          0.012601   \n",
       "\n",
       "    WindSpeed  \n",
       "6    0.003365  \n",
       "7    0.003416  \n",
       "8    0.002709  \n",
       "9    0.001824  \n",
       "10   0.001346  "
      ]
     },
     "execution_count": 24,
     "metadata": {},
     "output_type": "execute_result"
    }
   ],
   "source": [
    "df1.head()"
   ]
  },
  {
   "cell_type": "code",
   "execution_count": 25,
   "metadata": {
    "collapsed": true
   },
   "outputs": [],
   "source": [
    "df2=df2.astype('int')"
   ]
  },
  {
   "cell_type": "code",
   "execution_count": 26,
   "metadata": {},
   "outputs": [
    {
     "data": {
      "text/html": [
       "<div>\n",
       "<style scoped>\n",
       "    .dataframe tbody tr th:only-of-type {\n",
       "        vertical-align: middle;\n",
       "    }\n",
       "\n",
       "    .dataframe tbody tr th {\n",
       "        vertical-align: top;\n",
       "    }\n",
       "\n",
       "    .dataframe thead th {\n",
       "        text-align: right;\n",
       "    }\n",
       "</style>\n",
       "<table border=\"1\" class=\"dataframe\">\n",
       "  <thead>\n",
       "    <tr style=\"text-align: right;\">\n",
       "      <th></th>\n",
       "      <th>Hour</th>\n",
       "      <th>GHI</th>\n",
       "      <th>DewPoint</th>\n",
       "      <th>Temperature</th>\n",
       "      <th>Pressure</th>\n",
       "      <th>RelativeHumidity</th>\n",
       "      <th>WindSpeed</th>\n",
       "    </tr>\n",
       "  </thead>\n",
       "  <tbody>\n",
       "    <tr>\n",
       "      <th>6</th>\n",
       "      <td>6</td>\n",
       "      <td>0</td>\n",
       "      <td>-7</td>\n",
       "      <td>11</td>\n",
       "      <td>995</td>\n",
       "      <td>25</td>\n",
       "      <td>3</td>\n",
       "    </tr>\n",
       "    <tr>\n",
       "      <th>7</th>\n",
       "      <td>7</td>\n",
       "      <td>0</td>\n",
       "      <td>-6</td>\n",
       "      <td>12</td>\n",
       "      <td>996</td>\n",
       "      <td>27</td>\n",
       "      <td>3</td>\n",
       "    </tr>\n",
       "    <tr>\n",
       "      <th>8</th>\n",
       "      <td>8</td>\n",
       "      <td>141</td>\n",
       "      <td>-4</td>\n",
       "      <td>14</td>\n",
       "      <td>997</td>\n",
       "      <td>25</td>\n",
       "      <td>3</td>\n",
       "    </tr>\n",
       "    <tr>\n",
       "      <th>9</th>\n",
       "      <td>9</td>\n",
       "      <td>347</td>\n",
       "      <td>-3</td>\n",
       "      <td>18</td>\n",
       "      <td>997</td>\n",
       "      <td>23</td>\n",
       "      <td>2</td>\n",
       "    </tr>\n",
       "    <tr>\n",
       "      <th>10</th>\n",
       "      <td>10</td>\n",
       "      <td>507</td>\n",
       "      <td>-1</td>\n",
       "      <td>22</td>\n",
       "      <td>997</td>\n",
       "      <td>19</td>\n",
       "      <td>2</td>\n",
       "    </tr>\n",
       "  </tbody>\n",
       "</table>\n",
       "</div>"
      ],
      "text/plain": [
       "    Hour  GHI  DewPoint  Temperature  Pressure  RelativeHumidity  WindSpeed\n",
       "6      6    0        -7           11       995                25          3\n",
       "7      7    0        -6           12       996                27          3\n",
       "8      8  141        -4           14       997                25          3\n",
       "9      9  347        -3           18       997                23          2\n",
       "10    10  507        -1           22       997                19          2"
      ]
     },
     "execution_count": 26,
     "metadata": {},
     "output_type": "execute_result"
    }
   ],
   "source": [
    "df2.head()"
   ]
  },
  {
   "cell_type": "code",
   "execution_count": 27,
   "metadata": {
    "collapsed": true
   },
   "outputs": [],
   "source": [
    "from sklearn.model_selection import train_test_split\n",
    "\n",
    "X=df1[['Temperature', 'Pressure', 'RelativeHumidity', 'WindSpeed',\n",
    "     'Hour','DewPoint']]\n",
    "\n",
    "\n",
    "Y=df1.GHI\n",
    "\n",
    "X_train, X_test, Y_train, Y_test= train_test_split(X, Y, random_state= 0)\n",
    "\n",
    "X1=df2[['Temperature', 'Pressure', 'RelativeHumidity', 'WindSpeed',\n",
    "     'Hour','DewPoint']]\n",
    "\n",
    "\n",
    "Y1=df2.GHI\n",
    "\n",
    "X1_train, X1_test, Y1_train, Y1_test= train_test_split(X1, Y1, random_state= 0)\n",
    "\n",
    "def model_score_error(model):\n",
    "    prepared_model=model.fit(X1_train, Y1_train)\n",
    "    x=prepared_model.score(X1_test,Y1_test)\n",
    "    print('Score: ',x)\n",
    "    Target_predicted=prepared_model.predict(X1_test)\n",
    "    return Target_predicted"
   ]
  },
  {
   "cell_type": "code",
   "execution_count": null,
   "metadata": {
    "collapsed": true
   },
   "outputs": [],
   "source": []
  },
  {
   "cell_type": "code",
   "execution_count": 28,
   "metadata": {},
   "outputs": [
    {
     "data": {
      "text/plain": [
       "(35587, 6)"
      ]
     },
     "execution_count": 28,
     "metadata": {},
     "output_type": "execute_result"
    }
   ],
   "source": [
    "X_train.shape"
   ]
  },
  {
   "cell_type": "code",
   "execution_count": 29,
   "metadata": {},
   "outputs": [
    {
     "data": {
      "text/plain": [
       "(11863, 6)"
      ]
     },
     "execution_count": 29,
     "metadata": {},
     "output_type": "execute_result"
    }
   ],
   "source": [
    "X_test.shape"
   ]
  },
  {
   "cell_type": "code",
   "execution_count": 30,
   "metadata": {
    "collapsed": true
   },
   "outputs": [],
   "source": [
    "from sklearn.neural_network import MLPRegressor"
   ]
  },
  {
   "cell_type": "code",
   "execution_count": 31,
   "metadata": {},
   "outputs": [
    {
     "data": {
      "text/plain": [
       "(47450, 7)"
      ]
     },
     "execution_count": 31,
     "metadata": {},
     "output_type": "execute_result"
    }
   ],
   "source": [
    "df1.shape"
   ]
  },
  {
   "cell_type": "code",
   "execution_count": null,
   "metadata": {
    "collapsed": true
   },
   "outputs": [],
   "source": []
  },
  {
   "cell_type": "code",
   "execution_count": 32,
   "metadata": {},
   "outputs": [
    {
     "data": {
      "text/html": [
       "<div>\n",
       "<style scoped>\n",
       "    .dataframe tbody tr th:only-of-type {\n",
       "        vertical-align: middle;\n",
       "    }\n",
       "\n",
       "    .dataframe tbody tr th {\n",
       "        vertical-align: top;\n",
       "    }\n",
       "\n",
       "    .dataframe thead th {\n",
       "        text-align: right;\n",
       "    }\n",
       "</style>\n",
       "<table border=\"1\" class=\"dataframe\">\n",
       "  <thead>\n",
       "    <tr style=\"text-align: right;\">\n",
       "      <th></th>\n",
       "      <th>Hour</th>\n",
       "      <th>GHI</th>\n",
       "      <th>DewPoint</th>\n",
       "      <th>Temperature</th>\n",
       "      <th>Pressure</th>\n",
       "      <th>RelativeHumidity</th>\n",
       "      <th>WindSpeed</th>\n",
       "    </tr>\n",
       "  </thead>\n",
       "  <tbody>\n",
       "    <tr>\n",
       "      <th>6</th>\n",
       "      <td>0.005798</td>\n",
       "      <td>0.000000</td>\n",
       "      <td>-0.006764</td>\n",
       "      <td>0.011096</td>\n",
       "      <td>0.962153</td>\n",
       "      <td>0.024353</td>\n",
       "      <td>0.003365</td>\n",
       "    </tr>\n",
       "    <tr>\n",
       "      <th>7</th>\n",
       "      <td>0.006729</td>\n",
       "      <td>0.000000</td>\n",
       "      <td>-0.005768</td>\n",
       "      <td>0.011578</td>\n",
       "      <td>0.957949</td>\n",
       "      <td>0.026096</td>\n",
       "      <td>0.003416</td>\n",
       "    </tr>\n",
       "    <tr>\n",
       "      <th>8</th>\n",
       "      <td>0.006749</td>\n",
       "      <td>0.118955</td>\n",
       "      <td>-0.003375</td>\n",
       "      <td>0.012592</td>\n",
       "      <td>0.841159</td>\n",
       "      <td>0.021211</td>\n",
       "      <td>0.002709</td>\n",
       "    </tr>\n",
       "    <tr>\n",
       "      <th>9</th>\n",
       "      <td>0.006453</td>\n",
       "      <td>0.248804</td>\n",
       "      <td>-0.002151</td>\n",
       "      <td>0.013157</td>\n",
       "      <td>0.715392</td>\n",
       "      <td>0.016521</td>\n",
       "      <td>0.001824</td>\n",
       "    </tr>\n",
       "    <tr>\n",
       "      <th>10</th>\n",
       "      <td>0.006419</td>\n",
       "      <td>0.325435</td>\n",
       "      <td>-0.000642</td>\n",
       "      <td>0.014538</td>\n",
       "      <td>0.640303</td>\n",
       "      <td>0.012601</td>\n",
       "      <td>0.001346</td>\n",
       "    </tr>\n",
       "  </tbody>\n",
       "</table>\n",
       "</div>"
      ],
      "text/plain": [
       "        Hour       GHI  DewPoint  Temperature  Pressure  RelativeHumidity  \\\n",
       "6   0.005798  0.000000 -0.006764     0.011096  0.962153          0.024353   \n",
       "7   0.006729  0.000000 -0.005768     0.011578  0.957949          0.026096   \n",
       "8   0.006749  0.118955 -0.003375     0.012592  0.841159          0.021211   \n",
       "9   0.006453  0.248804 -0.002151     0.013157  0.715392          0.016521   \n",
       "10  0.006419  0.325435 -0.000642     0.014538  0.640303          0.012601   \n",
       "\n",
       "    WindSpeed  \n",
       "6    0.003365  \n",
       "7    0.003416  \n",
       "8    0.002709  \n",
       "9    0.001824  \n",
       "10   0.001346  "
      ]
     },
     "execution_count": 32,
     "metadata": {},
     "output_type": "execute_result"
    }
   ],
   "source": [
    "df1.head()"
   ]
  },
  {
   "cell_type": "code",
   "execution_count": null,
   "metadata": {
    "collapsed": true
   },
   "outputs": [],
   "source": []
  },
  {
   "cell_type": "code",
   "execution_count": null,
   "metadata": {
    "collapsed": true
   },
   "outputs": [],
   "source": []
  },
  {
   "cell_type": "code",
   "execution_count": 33,
   "metadata": {},
   "outputs": [
    {
     "data": {
      "text/html": [
       "<div>\n",
       "<style scoped>\n",
       "    .dataframe tbody tr th:only-of-type {\n",
       "        vertical-align: middle;\n",
       "    }\n",
       "\n",
       "    .dataframe tbody tr th {\n",
       "        vertical-align: top;\n",
       "    }\n",
       "\n",
       "    .dataframe thead th {\n",
       "        text-align: right;\n",
       "    }\n",
       "</style>\n",
       "<table border=\"1\" class=\"dataframe\">\n",
       "  <thead>\n",
       "    <tr style=\"text-align: right;\">\n",
       "      <th></th>\n",
       "      <th>Hour</th>\n",
       "      <th>GHI</th>\n",
       "      <th>DewPoint</th>\n",
       "      <th>Temperature</th>\n",
       "      <th>Pressure</th>\n",
       "      <th>RelativeHumidity</th>\n",
       "      <th>WindSpeed</th>\n",
       "    </tr>\n",
       "  </thead>\n",
       "  <tbody>\n",
       "    <tr>\n",
       "      <th>6</th>\n",
       "      <td>6</td>\n",
       "      <td>0</td>\n",
       "      <td>-7</td>\n",
       "      <td>11</td>\n",
       "      <td>995</td>\n",
       "      <td>25</td>\n",
       "      <td>3</td>\n",
       "    </tr>\n",
       "    <tr>\n",
       "      <th>7</th>\n",
       "      <td>7</td>\n",
       "      <td>0</td>\n",
       "      <td>-6</td>\n",
       "      <td>12</td>\n",
       "      <td>996</td>\n",
       "      <td>27</td>\n",
       "      <td>3</td>\n",
       "    </tr>\n",
       "    <tr>\n",
       "      <th>8</th>\n",
       "      <td>8</td>\n",
       "      <td>141</td>\n",
       "      <td>-4</td>\n",
       "      <td>14</td>\n",
       "      <td>997</td>\n",
       "      <td>25</td>\n",
       "      <td>3</td>\n",
       "    </tr>\n",
       "    <tr>\n",
       "      <th>9</th>\n",
       "      <td>9</td>\n",
       "      <td>347</td>\n",
       "      <td>-3</td>\n",
       "      <td>18</td>\n",
       "      <td>997</td>\n",
       "      <td>23</td>\n",
       "      <td>2</td>\n",
       "    </tr>\n",
       "    <tr>\n",
       "      <th>10</th>\n",
       "      <td>10</td>\n",
       "      <td>507</td>\n",
       "      <td>-1</td>\n",
       "      <td>22</td>\n",
       "      <td>997</td>\n",
       "      <td>19</td>\n",
       "      <td>2</td>\n",
       "    </tr>\n",
       "  </tbody>\n",
       "</table>\n",
       "</div>"
      ],
      "text/plain": [
       "    Hour  GHI  DewPoint  Temperature  Pressure  RelativeHumidity  WindSpeed\n",
       "6      6    0        -7           11       995                25          3\n",
       "7      7    0        -6           12       996                27          3\n",
       "8      8  141        -4           14       997                25          3\n",
       "9      9  347        -3           18       997                23          2\n",
       "10    10  507        -1           22       997                19          2"
      ]
     },
     "execution_count": 33,
     "metadata": {},
     "output_type": "execute_result"
    }
   ],
   "source": [
    "df2.head()"
   ]
  },
  {
   "cell_type": "code",
   "execution_count": null,
   "metadata": {
    "collapsed": true
   },
   "outputs": [],
   "source": []
  },
  {
   "cell_type": "code",
   "execution_count": 34,
   "metadata": {},
   "outputs": [
    {
     "data": {
      "text/html": [
       "<div>\n",
       "<style scoped>\n",
       "    .dataframe tbody tr th:only-of-type {\n",
       "        vertical-align: middle;\n",
       "    }\n",
       "\n",
       "    .dataframe tbody tr th {\n",
       "        vertical-align: top;\n",
       "    }\n",
       "\n",
       "    .dataframe thead th {\n",
       "        text-align: right;\n",
       "    }\n",
       "</style>\n",
       "<table border=\"1\" class=\"dataframe\">\n",
       "  <thead>\n",
       "    <tr style=\"text-align: right;\">\n",
       "      <th></th>\n",
       "      <th>Hour</th>\n",
       "      <th>GHI</th>\n",
       "      <th>DewPoint</th>\n",
       "      <th>Temperature</th>\n",
       "      <th>Pressure</th>\n",
       "      <th>RelativeHumidity</th>\n",
       "      <th>WindSpeed</th>\n",
       "    </tr>\n",
       "  </thead>\n",
       "  <tbody>\n",
       "    <tr>\n",
       "      <th>6</th>\n",
       "      <td>0.005798</td>\n",
       "      <td>0.000000</td>\n",
       "      <td>-0.006764</td>\n",
       "      <td>0.011096</td>\n",
       "      <td>0.962153</td>\n",
       "      <td>0.024353</td>\n",
       "      <td>0.003365</td>\n",
       "    </tr>\n",
       "    <tr>\n",
       "      <th>7</th>\n",
       "      <td>0.006729</td>\n",
       "      <td>0.000000</td>\n",
       "      <td>-0.005768</td>\n",
       "      <td>0.011578</td>\n",
       "      <td>0.957949</td>\n",
       "      <td>0.026096</td>\n",
       "      <td>0.003416</td>\n",
       "    </tr>\n",
       "    <tr>\n",
       "      <th>8</th>\n",
       "      <td>0.006749</td>\n",
       "      <td>0.118955</td>\n",
       "      <td>-0.003375</td>\n",
       "      <td>0.012592</td>\n",
       "      <td>0.841159</td>\n",
       "      <td>0.021211</td>\n",
       "      <td>0.002709</td>\n",
       "    </tr>\n",
       "    <tr>\n",
       "      <th>9</th>\n",
       "      <td>0.006453</td>\n",
       "      <td>0.248804</td>\n",
       "      <td>-0.002151</td>\n",
       "      <td>0.013157</td>\n",
       "      <td>0.715392</td>\n",
       "      <td>0.016521</td>\n",
       "      <td>0.001824</td>\n",
       "    </tr>\n",
       "    <tr>\n",
       "      <th>10</th>\n",
       "      <td>0.006419</td>\n",
       "      <td>0.325435</td>\n",
       "      <td>-0.000642</td>\n",
       "      <td>0.014538</td>\n",
       "      <td>0.640303</td>\n",
       "      <td>0.012601</td>\n",
       "      <td>0.001346</td>\n",
       "    </tr>\n",
       "  </tbody>\n",
       "</table>\n",
       "</div>"
      ],
      "text/plain": [
       "        Hour       GHI  DewPoint  Temperature  Pressure  RelativeHumidity  \\\n",
       "6   0.005798  0.000000 -0.006764     0.011096  0.962153          0.024353   \n",
       "7   0.006729  0.000000 -0.005768     0.011578  0.957949          0.026096   \n",
       "8   0.006749  0.118955 -0.003375     0.012592  0.841159          0.021211   \n",
       "9   0.006453  0.248804 -0.002151     0.013157  0.715392          0.016521   \n",
       "10  0.006419  0.325435 -0.000642     0.014538  0.640303          0.012601   \n",
       "\n",
       "    WindSpeed  \n",
       "6    0.003365  \n",
       "7    0.003416  \n",
       "8    0.002709  \n",
       "9    0.001824  \n",
       "10   0.001346  "
      ]
     },
     "execution_count": 34,
     "metadata": {},
     "output_type": "execute_result"
    }
   ],
   "source": [
    "df1.head()"
   ]
  },
  {
   "cell_type": "code",
   "execution_count": 35,
   "metadata": {},
   "outputs": [
    {
     "name": "stdout",
     "output_type": "stream",
     "text": [
      "Score:  0.9247055588774302\n"
     ]
    }
   ],
   "source": [
    "MLP = MLPRegressor(activation='relu', alpha=10, batch_size=150, beta_1=0.9,\n",
    "       beta_2=0.999, early_stopping=False, epsilon=1e-08,\n",
    "       hidden_layer_sizes=(500,), learning_rate='constant',\n",
    "       learning_rate_init=0.001, max_iter=2000, momentum=0.9,\n",
    "       nesterovs_momentum=True, power_t=0.5, random_state=None,\n",
    "       shuffle=True, solver='adam', tol=0.0001, validation_fraction=0.1,\n",
    "       verbose=False, warm_start=False)\n",
    "\n",
    "outpu=model_score_error(MLP)"
   ]
  },
  {
   "cell_type": "code",
   "execution_count": 36,
   "metadata": {
    "collapsed": true
   },
   "outputs": [],
   "source": [
    "from sklearn.metrics import mean_squared_error\n",
    "from math import sqrt"
   ]
  },
  {
   "cell_type": "code",
   "execution_count": 37,
   "metadata": {
    "collapsed": true
   },
   "outputs": [],
   "source": [
    "GBoost = GradientBoostingRegressor(n_estimators=3000, learning_rate=0.05, max_depth=4, max_features='sqrt', min_samples_leaf=15, min_samples_split=10, loss='huber', random_state =5)"
   ]
  },
  {
   "cell_type": "code",
   "execution_count": 38,
   "metadata": {},
   "outputs": [
    {
     "name": "stdout",
     "output_type": "stream",
     "text": [
      "Score:  0.9996628885380003\n"
     ]
    }
   ],
   "source": [
    "prepared_model=GBoost.fit(X_train, Y_train)\n",
    "x=prepared_model.score(X_test,Y_test)\n",
    "print('Score: ',x)\n",
    "Target=prepared_model.predict(X_test)"
   ]
  },
  {
   "cell_type": "code",
   "execution_count": 39,
   "metadata": {
    "collapsed": true
   },
   "outputs": [],
   "source": [
    "rms = sqrt(mean_squared_error(Y_test, Target))"
   ]
  },
  {
   "cell_type": "code",
   "execution_count": 40,
   "metadata": {},
   "outputs": [
    {
     "data": {
      "text/plain": [
       "0.002874529806201355"
      ]
     },
     "execution_count": 40,
     "metadata": {},
     "output_type": "execute_result"
    }
   ],
   "source": [
    "rms"
   ]
  },
  {
   "cell_type": "code",
   "execution_count": 41,
   "metadata": {
    "collapsed": true
   },
   "outputs": [],
   "source": [
    "#MAPE ISSUE AS ACTUAL VAUE IS 0 SO ANSWER BECOMES NOT DEFINED"
   ]
  },
  {
   "cell_type": "code",
   "execution_count": null,
   "metadata": {
    "collapsed": true
   },
   "outputs": [],
   "source": []
  }
 ],
 "metadata": {
  "kernelspec": {
   "display_name": "Python 3",
   "language": "python",
   "name": "python3"
  },
  "language_info": {
   "codemirror_mode": {
    "name": "ipython",
    "version": 3
   },
   "file_extension": ".py",
   "mimetype": "text/x-python",
   "name": "python",
   "nbconvert_exporter": "python",
   "pygments_lexer": "ipython3",
   "version": "3.5.4"
  }
 },
 "nbformat": 4,
 "nbformat_minor": 2
}

{
 "cells": [
  {
   "cell_type": "code",
   "execution_count": 1,
   "metadata": {
    "collapsed": true
   },
   "outputs": [],
   "source": [
    "from sklearn.linear_model import LinearRegression\n",
    "from sklearn.preprocessing import LabelEncoder\n",
    "from sklearn import preprocessing\n",
    "import matplotlib.pyplot as plt\n",
    "import pandas as pd\n",
    "import numpy as np"
   ]
  },
  {
   "cell_type": "code",
   "execution_count": 2,
   "metadata": {
    "collapsed": true
   },
   "outputs": [],
   "source": [
    "df1=pd.read_csv(\"datasetsolar.csv\")"
   ]
  },
  {
   "cell_type": "code",
   "execution_count": 3,
   "metadata": {
    "collapsed": true
   },
   "outputs": [],
   "source": [
    "df = pd.DataFrame(columns=['Year','Month','Day','Hour','DewPoint','Temperature','Pressure','RelativeHumidity','WindDirection','WindSpeed','Radiation'])"
   ]
  },
  {
   "cell_type": "code",
   "execution_count": 4,
   "metadata": {
    "collapsed": true
   },
   "outputs": [],
   "source": [
    "#df.loc[0]=df1.iloc[0]"
   ]
  },
  {
   "cell_type": "code",
   "execution_count": 5,
   "metadata": {},
   "outputs": [
    {
     "data": {
      "text/plain": [
       "(43800, 14)"
      ]
     },
     "execution_count": 5,
     "metadata": {},
     "output_type": "execute_result"
    }
   ],
   "source": [
    "df1.shape"
   ]
  },
  {
   "cell_type": "code",
   "execution_count": 136,
   "metadata": {
    "collapsed": true
   },
   "outputs": [],
   "source": [
    "import tensorflow as tf"
   ]
  },
  {
   "cell_type": "code",
   "execution_count": 6,
   "metadata": {
    "collapsed": true
   },
   "outputs": [],
   "source": [
    "#df.loc[0]=df1.iloc[0].tolist()"
   ]
  },
  {
   "cell_type": "code",
   "execution_count": null,
   "metadata": {
    "collapsed": true
   },
   "outputs": [],
   "source": []
  },
  {
   "cell_type": "code",
   "execution_count": 7,
   "metadata": {},
   "outputs": [
    {
     "data": {
      "text/plain": [
       "(43800, 14)"
      ]
     },
     "execution_count": 7,
     "metadata": {},
     "output_type": "execute_result"
    }
   ],
   "source": [
    "df1.shape"
   ]
  },
  {
   "cell_type": "code",
   "execution_count": 8,
   "metadata": {},
   "outputs": [
    {
     "data": {
      "text/html": [
       "<div>\n",
       "<style>\n",
       "    .dataframe thead tr:only-child th {\n",
       "        text-align: right;\n",
       "    }\n",
       "\n",
       "    .dataframe thead th {\n",
       "        text-align: left;\n",
       "    }\n",
       "\n",
       "    .dataframe tbody tr th {\n",
       "        vertical-align: top;\n",
       "    }\n",
       "</style>\n",
       "<table border=\"1\" class=\"dataframe\">\n",
       "  <thead>\n",
       "    <tr style=\"text-align: right;\">\n",
       "      <th></th>\n",
       "      <th>Year</th>\n",
       "      <th>Month</th>\n",
       "      <th>Day</th>\n",
       "      <th>Hour</th>\n",
       "      <th>Minute</th>\n",
       "      <th>DHI</th>\n",
       "      <th>DNI</th>\n",
       "      <th>GHI</th>\n",
       "      <th>Dew Point</th>\n",
       "      <th>Temperature</th>\n",
       "      <th>Pressure</th>\n",
       "      <th>Relative Humidity</th>\n",
       "      <th>Wind Direction</th>\n",
       "      <th>Wind Speed</th>\n",
       "    </tr>\n",
       "  </thead>\n",
       "  <tbody>\n",
       "    <tr>\n",
       "      <th>0</th>\n",
       "      <td>2012</td>\n",
       "      <td>1</td>\n",
       "      <td>1</td>\n",
       "      <td>0</td>\n",
       "      <td>30</td>\n",
       "      <td>0</td>\n",
       "      <td>0</td>\n",
       "      <td>0</td>\n",
       "      <td>-5</td>\n",
       "      <td>10.796184</td>\n",
       "      <td>984.308411</td>\n",
       "      <td>31.520793</td>\n",
       "      <td>67.788605</td>\n",
       "      <td>3.121760</td>\n",
       "    </tr>\n",
       "    <tr>\n",
       "      <th>1</th>\n",
       "      <td>2012</td>\n",
       "      <td>1</td>\n",
       "      <td>1</td>\n",
       "      <td>1</td>\n",
       "      <td>30</td>\n",
       "      <td>0</td>\n",
       "      <td>0</td>\n",
       "      <td>0</td>\n",
       "      <td>-5</td>\n",
       "      <td>10.293036</td>\n",
       "      <td>984.200317</td>\n",
       "      <td>32.696968</td>\n",
       "      <td>66.973656</td>\n",
       "      <td>3.058262</td>\n",
       "    </tr>\n",
       "    <tr>\n",
       "      <th>2</th>\n",
       "      <td>2012</td>\n",
       "      <td>1</td>\n",
       "      <td>1</td>\n",
       "      <td>2</td>\n",
       "      <td>30</td>\n",
       "      <td>0</td>\n",
       "      <td>0</td>\n",
       "      <td>0</td>\n",
       "      <td>-5</td>\n",
       "      <td>9.844070</td>\n",
       "      <td>983.793335</td>\n",
       "      <td>33.539323</td>\n",
       "      <td>67.320267</td>\n",
       "      <td>2.979188</td>\n",
       "    </tr>\n",
       "    <tr>\n",
       "      <th>3</th>\n",
       "      <td>2012</td>\n",
       "      <td>1</td>\n",
       "      <td>1</td>\n",
       "      <td>3</td>\n",
       "      <td>30</td>\n",
       "      <td>0</td>\n",
       "      <td>0</td>\n",
       "      <td>0</td>\n",
       "      <td>-5</td>\n",
       "      <td>9.457603</td>\n",
       "      <td>983.602722</td>\n",
       "      <td>34.166898</td>\n",
       "      <td>70.372833</td>\n",
       "      <td>2.963390</td>\n",
       "    </tr>\n",
       "    <tr>\n",
       "      <th>4</th>\n",
       "      <td>2012</td>\n",
       "      <td>1</td>\n",
       "      <td>1</td>\n",
       "      <td>4</td>\n",
       "      <td>30</td>\n",
       "      <td>0</td>\n",
       "      <td>0</td>\n",
       "      <td>0</td>\n",
       "      <td>-5</td>\n",
       "      <td>9.112615</td>\n",
       "      <td>983.454895</td>\n",
       "      <td>34.658328</td>\n",
       "      <td>74.828423</td>\n",
       "      <td>2.998623</td>\n",
       "    </tr>\n",
       "  </tbody>\n",
       "</table>\n",
       "</div>"
      ],
      "text/plain": [
       "   Year  Month  Day  Hour  Minute  DHI  DNI  GHI  Dew Point  Temperature  \\\n",
       "0  2012      1    1     0      30    0    0    0         -5    10.796184   \n",
       "1  2012      1    1     1      30    0    0    0         -5    10.293036   \n",
       "2  2012      1    1     2      30    0    0    0         -5     9.844070   \n",
       "3  2012      1    1     3      30    0    0    0         -5     9.457603   \n",
       "4  2012      1    1     4      30    0    0    0         -5     9.112615   \n",
       "\n",
       "     Pressure  Relative Humidity  Wind Direction  Wind Speed  \n",
       "0  984.308411          31.520793       67.788605    3.121760  \n",
       "1  984.200317          32.696968       66.973656    3.058262  \n",
       "2  983.793335          33.539323       67.320267    2.979188  \n",
       "3  983.602722          34.166898       70.372833    2.963390  \n",
       "4  983.454895          34.658328       74.828423    2.998623  "
      ]
     },
     "execution_count": 8,
     "metadata": {},
     "output_type": "execute_result"
    }
   ],
   "source": [
    "df1.head()"
   ]
  },
  {
   "cell_type": "code",
   "execution_count": 10,
   "metadata": {
    "collapsed": true
   },
   "outputs": [],
   "source": [
    "df1.columns=['Year','Month','Day','Hour','Minute','DHI','DNI','GHI','DewPoint','Temperature','Pressure','RelativeHumidity','WindDirection','WindSpeed']"
   ]
  },
  {
   "cell_type": "code",
   "execution_count": 11,
   "metadata": {},
   "outputs": [
    {
     "data": {
      "text/html": [
       "<div>\n",
       "<style>\n",
       "    .dataframe thead tr:only-child th {\n",
       "        text-align: right;\n",
       "    }\n",
       "\n",
       "    .dataframe thead th {\n",
       "        text-align: left;\n",
       "    }\n",
       "\n",
       "    .dataframe tbody tr th {\n",
       "        vertical-align: top;\n",
       "    }\n",
       "</style>\n",
       "<table border=\"1\" class=\"dataframe\">\n",
       "  <thead>\n",
       "    <tr style=\"text-align: right;\">\n",
       "      <th></th>\n",
       "      <th>Year</th>\n",
       "      <th>Month</th>\n",
       "      <th>Day</th>\n",
       "      <th>Hour</th>\n",
       "      <th>Minute</th>\n",
       "      <th>DHI</th>\n",
       "      <th>DNI</th>\n",
       "      <th>GHI</th>\n",
       "      <th>DewPoint</th>\n",
       "      <th>Temperature</th>\n",
       "      <th>Pressure</th>\n",
       "      <th>RelativeHumidity</th>\n",
       "      <th>WindDirection</th>\n",
       "      <th>WindSpeed</th>\n",
       "    </tr>\n",
       "  </thead>\n",
       "  <tbody>\n",
       "    <tr>\n",
       "      <th>0</th>\n",
       "      <td>2012</td>\n",
       "      <td>1</td>\n",
       "      <td>1</td>\n",
       "      <td>0</td>\n",
       "      <td>30</td>\n",
       "      <td>0</td>\n",
       "      <td>0</td>\n",
       "      <td>0</td>\n",
       "      <td>-5</td>\n",
       "      <td>10.796184</td>\n",
       "      <td>984.308411</td>\n",
       "      <td>31.520793</td>\n",
       "      <td>67.788605</td>\n",
       "      <td>3.121760</td>\n",
       "    </tr>\n",
       "    <tr>\n",
       "      <th>1</th>\n",
       "      <td>2012</td>\n",
       "      <td>1</td>\n",
       "      <td>1</td>\n",
       "      <td>1</td>\n",
       "      <td>30</td>\n",
       "      <td>0</td>\n",
       "      <td>0</td>\n",
       "      <td>0</td>\n",
       "      <td>-5</td>\n",
       "      <td>10.293036</td>\n",
       "      <td>984.200317</td>\n",
       "      <td>32.696968</td>\n",
       "      <td>66.973656</td>\n",
       "      <td>3.058262</td>\n",
       "    </tr>\n",
       "    <tr>\n",
       "      <th>2</th>\n",
       "      <td>2012</td>\n",
       "      <td>1</td>\n",
       "      <td>1</td>\n",
       "      <td>2</td>\n",
       "      <td>30</td>\n",
       "      <td>0</td>\n",
       "      <td>0</td>\n",
       "      <td>0</td>\n",
       "      <td>-5</td>\n",
       "      <td>9.844070</td>\n",
       "      <td>983.793335</td>\n",
       "      <td>33.539323</td>\n",
       "      <td>67.320267</td>\n",
       "      <td>2.979188</td>\n",
       "    </tr>\n",
       "    <tr>\n",
       "      <th>3</th>\n",
       "      <td>2012</td>\n",
       "      <td>1</td>\n",
       "      <td>1</td>\n",
       "      <td>3</td>\n",
       "      <td>30</td>\n",
       "      <td>0</td>\n",
       "      <td>0</td>\n",
       "      <td>0</td>\n",
       "      <td>-5</td>\n",
       "      <td>9.457603</td>\n",
       "      <td>983.602722</td>\n",
       "      <td>34.166898</td>\n",
       "      <td>70.372833</td>\n",
       "      <td>2.963390</td>\n",
       "    </tr>\n",
       "    <tr>\n",
       "      <th>4</th>\n",
       "      <td>2012</td>\n",
       "      <td>1</td>\n",
       "      <td>1</td>\n",
       "      <td>4</td>\n",
       "      <td>30</td>\n",
       "      <td>0</td>\n",
       "      <td>0</td>\n",
       "      <td>0</td>\n",
       "      <td>-5</td>\n",
       "      <td>9.112615</td>\n",
       "      <td>983.454895</td>\n",
       "      <td>34.658328</td>\n",
       "      <td>74.828423</td>\n",
       "      <td>2.998623</td>\n",
       "    </tr>\n",
       "  </tbody>\n",
       "</table>\n",
       "</div>"
      ],
      "text/plain": [
       "   Year  Month  Day  Hour  Minute  DHI  DNI  GHI  DewPoint  Temperature  \\\n",
       "0  2012      1    1     0      30    0    0    0        -5    10.796184   \n",
       "1  2012      1    1     1      30    0    0    0        -5    10.293036   \n",
       "2  2012      1    1     2      30    0    0    0        -5     9.844070   \n",
       "3  2012      1    1     3      30    0    0    0        -5     9.457603   \n",
       "4  2012      1    1     4      30    0    0    0        -5     9.112615   \n",
       "\n",
       "     Pressure  RelativeHumidity  WindDirection  WindSpeed  \n",
       "0  984.308411         31.520793      67.788605   3.121760  \n",
       "1  984.200317         32.696968      66.973656   3.058262  \n",
       "2  983.793335         33.539323      67.320267   2.979188  \n",
       "3  983.602722         34.166898      70.372833   2.963390  \n",
       "4  983.454895         34.658328      74.828423   2.998623  "
      ]
     },
     "execution_count": 11,
     "metadata": {},
     "output_type": "execute_result"
    }
   ],
   "source": [
    "df1.head()"
   ]
  },
  {
   "cell_type": "code",
   "execution_count": 12,
   "metadata": {},
   "outputs": [
    {
     "data": {
      "image/png": "[encoded data removed]",
      "text/plain": [
       "<matplotlib.figure.Figure at 0x23327842400>"
      ]
     },
     "metadata": {},
     "output_type": "display_data"
    }
   ],
   "source": [
    "df1.hist(figsize=(10,10))\n",
    "plt.show()"
   ]
  },
  {
   "cell_type": "code",
   "execution_count": 13,
   "metadata": {},
   "outputs": [
    {
     "data": {
      "image/png": "[encoded data removed]",
      "text/plain": [
       "<matplotlib.figure.Figure at 0x23328439a90>"
      ]
     },
     "metadata": {},
     "output_type": "display_data"
    }
   ],
   "source": [
    "plt.scatter(df1.Hour,df1.GHI,color='blue')\n",
    "plt.xlabel(\"Hour of each day\")\n",
    "plt.ylabel(\"Radiation\")\n",
    "plt.title(\"Graph\")\n",
    "plt.show()"
   ]
  },
  {
   "cell_type": "code",
   "execution_count": 107,
   "metadata": {
    "collapsed": true
   },
   "outputs": [],
   "source": [
    "i=0\n",
    "k=0\n",
    "while k<=43799:\n",
    "    if(df1.iloc[i].Hour<6 or df1.iloc[i].Hour>18):\n",
    "        df1=df1.drop(df1.index[i])\n",
    "        i=i-1\n",
    "    i=i+1\n",
    "    k=k+1"
   ]
  },
  {
   "cell_type": "code",
   "execution_count": 14,
   "metadata": {},
   "outputs": [
    {
     "data": {
      "text/html": [
       "<div>\n",
       "<style>\n",
       "    .dataframe thead tr:only-child th {\n",
       "        text-align: right;\n",
       "    }\n",
       "\n",
       "    .dataframe thead th {\n",
       "        text-align: left;\n",
       "    }\n",
       "\n",
       "    .dataframe tbody tr th {\n",
       "        vertical-align: top;\n",
       "    }\n",
       "</style>\n",
       "<table border=\"1\" class=\"dataframe\">\n",
       "  <thead>\n",
       "    <tr style=\"text-align: right;\">\n",
       "      <th></th>\n",
       "      <th>Year</th>\n",
       "      <th>Month</th>\n",
       "      <th>Day</th>\n",
       "      <th>Hour</th>\n",
       "      <th>Minute</th>\n",
       "      <th>DHI</th>\n",
       "      <th>DNI</th>\n",
       "      <th>GHI</th>\n",
       "      <th>DewPoint</th>\n",
       "      <th>Temperature</th>\n",
       "      <th>Pressure</th>\n",
       "      <th>RelativeHumidity</th>\n",
       "      <th>WindDirection</th>\n",
       "      <th>WindSpeed</th>\n",
       "    </tr>\n",
       "  </thead>\n",
       "  <tbody>\n",
       "    <tr>\n",
       "      <th>0</th>\n",
       "      <td>2012</td>\n",
       "      <td>1</td>\n",
       "      <td>1</td>\n",
       "      <td>0</td>\n",
       "      <td>30</td>\n",
       "      <td>0</td>\n",
       "      <td>0</td>\n",
       "      <td>0</td>\n",
       "      <td>-5</td>\n",
       "      <td>10.796184</td>\n",
       "      <td>984.308411</td>\n",
       "      <td>31.520793</td>\n",
       "      <td>67.788605</td>\n",
       "      <td>3.121760</td>\n",
       "    </tr>\n",
       "    <tr>\n",
       "      <th>1</th>\n",
       "      <td>2012</td>\n",
       "      <td>1</td>\n",
       "      <td>1</td>\n",
       "      <td>1</td>\n",
       "      <td>30</td>\n",
       "      <td>0</td>\n",
       "      <td>0</td>\n",
       "      <td>0</td>\n",
       "      <td>-5</td>\n",
       "      <td>10.293036</td>\n",
       "      <td>984.200317</td>\n",
       "      <td>32.696968</td>\n",
       "      <td>66.973656</td>\n",
       "      <td>3.058262</td>\n",
       "    </tr>\n",
       "    <tr>\n",
       "      <th>2</th>\n",
       "      <td>2012</td>\n",
       "      <td>1</td>\n",
       "      <td>1</td>\n",
       "      <td>2</td>\n",
       "      <td>30</td>\n",
       "      <td>0</td>\n",
       "      <td>0</td>\n",
       "      <td>0</td>\n",
       "      <td>-5</td>\n",
       "      <td>9.844070</td>\n",
       "      <td>983.793335</td>\n",
       "      <td>33.539323</td>\n",
       "      <td>67.320267</td>\n",
       "      <td>2.979188</td>\n",
       "    </tr>\n",
       "    <tr>\n",
       "      <th>3</th>\n",
       "      <td>2012</td>\n",
       "      <td>1</td>\n",
       "      <td>1</td>\n",
       "      <td>3</td>\n",
       "      <td>30</td>\n",
       "      <td>0</td>\n",
       "      <td>0</td>\n",
       "      <td>0</td>\n",
       "      <td>-5</td>\n",
       "      <td>9.457603</td>\n",
       "      <td>983.602722</td>\n",
       "      <td>34.166898</td>\n",
       "      <td>70.372833</td>\n",
       "      <td>2.963390</td>\n",
       "    </tr>\n",
       "    <tr>\n",
       "      <th>4</th>\n",
       "      <td>2012</td>\n",
       "      <td>1</td>\n",
       "      <td>1</td>\n",
       "      <td>4</td>\n",
       "      <td>30</td>\n",
       "      <td>0</td>\n",
       "      <td>0</td>\n",
       "      <td>0</td>\n",
       "      <td>-5</td>\n",
       "      <td>9.112615</td>\n",
       "      <td>983.454895</td>\n",
       "      <td>34.658328</td>\n",
       "      <td>74.828423</td>\n",
       "      <td>2.998623</td>\n",
       "    </tr>\n",
       "  </tbody>\n",
       "</table>\n",
       "</div>"
      ],
      "text/plain": [
       "   Year  Month  Day  Hour  Minute  DHI  DNI  GHI  DewPoint  Temperature  \\\n",
       "0  2012      1    1     0      30    0    0    0        -5    10.796184   \n",
       "1  2012      1    1     1      30    0    0    0        -5    10.293036   \n",
       "2  2012      1    1     2      30    0    0    0        -5     9.844070   \n",
       "3  2012      1    1     3      30    0    0    0        -5     9.457603   \n",
       "4  2012      1    1     4      30    0    0    0        -5     9.112615   \n",
       "\n",
       "     Pressure  RelativeHumidity  WindDirection  WindSpeed  \n",
       "0  984.308411         31.520793      67.788605   3.121760  \n",
       "1  984.200317         32.696968      66.973656   3.058262  \n",
       "2  983.793335         33.539323      67.320267   2.979188  \n",
       "3  983.602722         34.166898      70.372833   2.963390  \n",
       "4  983.454895         34.658328      74.828423   2.998623  "
      ]
     },
     "execution_count": 14,
     "metadata": {},
     "output_type": "execute_result"
    }
   ],
   "source": [
    "df1.head()"
   ]
  },
  {
   "cell_type": "code",
   "execution_count": null,
   "metadata": {
    "collapsed": true
   },
   "outputs": [],
   "source": []
  },
  {
   "cell_type": "code",
   "execution_count": 15,
   "metadata": {
    "collapsed": true
   },
   "outputs": [],
   "source": [
    "df1=df1.drop(['Year'],axis=1)"
   ]
  },
  {
   "cell_type": "code",
   "execution_count": 16,
   "metadata": {
    "collapsed": true
   },
   "outputs": [],
   "source": [
    "df1=df1.drop(['WindDirection'],axis=1)"
   ]
  },
  {
   "cell_type": "code",
   "execution_count": 17,
   "metadata": {
    "collapsed": true
   },
   "outputs": [],
   "source": [
    "df1=df1.drop(['Month'],axis=1)"
   ]
  },
  {
   "cell_type": "code",
   "execution_count": 18,
   "metadata": {
    "collapsed": true
   },
   "outputs": [],
   "source": [
    "df1=df1.drop(['Day'],axis=1)"
   ]
  },
  {
   "cell_type": "code",
   "execution_count": 19,
   "metadata": {
    "collapsed": true
   },
   "outputs": [],
   "source": [
    "df1=df1.drop(['Minute'],axis=1)"
   ]
  },
  {
   "cell_type": "code",
   "execution_count": 20,
   "metadata": {
    "collapsed": true
   },
   "outputs": [],
   "source": [
    "df1=df1.drop(['DHI'],axis=1)"
   ]
  },
  {
   "cell_type": "code",
   "execution_count": 21,
   "metadata": {
    "collapsed": true
   },
   "outputs": [],
   "source": [
    "df1=df1.drop(['DNI'],axis=1)"
   ]
  },
  {
   "cell_type": "code",
   "execution_count": 25,
   "metadata": {
    "collapsed": true
   },
   "outputs": [],
   "source": [
    "df1=df1.drop(['Hour'],axis=1)"
   ]
  },
  {
   "cell_type": "code",
   "execution_count": 26,
   "metadata": {
    "collapsed": true
   },
   "outputs": [],
   "source": [
    "df2=df1"
   ]
  },
  {
   "cell_type": "code",
   "execution_count": 27,
   "metadata": {},
   "outputs": [
    {
     "data": {
      "text/html": [
       "<div>\n",
       "<style>\n",
       "    .dataframe thead tr:only-child th {\n",
       "        text-align: right;\n",
       "    }\n",
       "\n",
       "    .dataframe thead th {\n",
       "        text-align: left;\n",
       "    }\n",
       "\n",
       "    .dataframe tbody tr th {\n",
       "        vertical-align: top;\n",
       "    }\n",
       "</style>\n",
       "<table border=\"1\" class=\"dataframe\">\n",
       "  <thead>\n",
       "    <tr style=\"text-align: right;\">\n",
       "      <th></th>\n",
       "      <th>GHI</th>\n",
       "      <th>DewPoint</th>\n",
       "      <th>Temperature</th>\n",
       "      <th>Pressure</th>\n",
       "      <th>RelativeHumidity</th>\n",
       "      <th>WindSpeed</th>\n",
       "    </tr>\n",
       "  </thead>\n",
       "  <tbody>\n",
       "    <tr>\n",
       "      <th>0</th>\n",
       "      <td>0</td>\n",
       "      <td>-5</td>\n",
       "      <td>10.796184</td>\n",
       "      <td>984.308411</td>\n",
       "      <td>31.520793</td>\n",
       "      <td>3.121760</td>\n",
       "    </tr>\n",
       "    <tr>\n",
       "      <th>1</th>\n",
       "      <td>0</td>\n",
       "      <td>-5</td>\n",
       "      <td>10.293036</td>\n",
       "      <td>984.200317</td>\n",
       "      <td>32.696968</td>\n",
       "      <td>3.058262</td>\n",
       "    </tr>\n",
       "    <tr>\n",
       "      <th>2</th>\n",
       "      <td>0</td>\n",
       "      <td>-5</td>\n",
       "      <td>9.844070</td>\n",
       "      <td>983.793335</td>\n",
       "      <td>33.539323</td>\n",
       "      <td>2.979188</td>\n",
       "    </tr>\n",
       "    <tr>\n",
       "      <th>3</th>\n",
       "      <td>0</td>\n",
       "      <td>-5</td>\n",
       "      <td>9.457603</td>\n",
       "      <td>983.602722</td>\n",
       "      <td>34.166898</td>\n",
       "      <td>2.963390</td>\n",
       "    </tr>\n",
       "    <tr>\n",
       "      <th>4</th>\n",
       "      <td>0</td>\n",
       "      <td>-5</td>\n",
       "      <td>9.112615</td>\n",
       "      <td>983.454895</td>\n",
       "      <td>34.658328</td>\n",
       "      <td>2.998623</td>\n",
       "    </tr>\n",
       "  </tbody>\n",
       "</table>\n",
       "</div>"
      ],
      "text/plain": [
       "   GHI  DewPoint  Temperature    Pressure  RelativeHumidity  WindSpeed\n",
       "0    0        -5    10.796184  984.308411         31.520793   3.121760\n",
       "1    0        -5    10.293036  984.200317         32.696968   3.058262\n",
       "2    0        -5     9.844070  983.793335         33.539323   2.979188\n",
       "3    0        -5     9.457603  983.602722         34.166898   2.963390\n",
       "4    0        -5     9.112615  983.454895         34.658328   2.998623"
      ]
     },
     "execution_count": 27,
     "metadata": {},
     "output_type": "execute_result"
    }
   ],
   "source": [
    "df1.head()"
   ]
  },
  {
   "cell_type": "code",
   "execution_count": 28,
   "metadata": {},
   "outputs": [
    {
     "data": {
      "text/html": [
       "<div>\n",
       "<style>\n",
       "    .dataframe thead tr:only-child th {\n",
       "        text-align: right;\n",
       "    }\n",
       "\n",
       "    .dataframe thead th {\n",
       "        text-align: left;\n",
       "    }\n",
       "\n",
       "    .dataframe tbody tr th {\n",
       "        vertical-align: top;\n",
       "    }\n",
       "</style>\n",
       "<table border=\"1\" class=\"dataframe\">\n",
       "  <thead>\n",
       "    <tr style=\"text-align: right;\">\n",
       "      <th></th>\n",
       "      <th>GHI</th>\n",
       "      <th>DewPoint</th>\n",
       "      <th>Temperature</th>\n",
       "      <th>Pressure</th>\n",
       "      <th>RelativeHumidity</th>\n",
       "      <th>WindSpeed</th>\n",
       "    </tr>\n",
       "  </thead>\n",
       "  <tbody>\n",
       "    <tr>\n",
       "      <th>0</th>\n",
       "      <td>0</td>\n",
       "      <td>-5</td>\n",
       "      <td>10.796184</td>\n",
       "      <td>984.308411</td>\n",
       "      <td>31.520793</td>\n",
       "      <td>3.121760</td>\n",
       "    </tr>\n",
       "    <tr>\n",
       "      <th>1</th>\n",
       "      <td>0</td>\n",
       "      <td>-5</td>\n",
       "      <td>10.293036</td>\n",
       "      <td>984.200317</td>\n",
       "      <td>32.696968</td>\n",
       "      <td>3.058262</td>\n",
       "    </tr>\n",
       "    <tr>\n",
       "      <th>2</th>\n",
       "      <td>0</td>\n",
       "      <td>-5</td>\n",
       "      <td>9.844070</td>\n",
       "      <td>983.793335</td>\n",
       "      <td>33.539323</td>\n",
       "      <td>2.979188</td>\n",
       "    </tr>\n",
       "    <tr>\n",
       "      <th>3</th>\n",
       "      <td>0</td>\n",
       "      <td>-5</td>\n",
       "      <td>9.457603</td>\n",
       "      <td>983.602722</td>\n",
       "      <td>34.166898</td>\n",
       "      <td>2.963390</td>\n",
       "    </tr>\n",
       "    <tr>\n",
       "      <th>4</th>\n",
       "      <td>0</td>\n",
       "      <td>-5</td>\n",
       "      <td>9.112615</td>\n",
       "      <td>983.454895</td>\n",
       "      <td>34.658328</td>\n",
       "      <td>2.998623</td>\n",
       "    </tr>\n",
       "  </tbody>\n",
       "</table>\n",
       "</div>"
      ],
      "text/plain": [
       "   GHI  DewPoint  Temperature    Pressure  RelativeHumidity  WindSpeed\n",
       "0    0        -5    10.796184  984.308411         31.520793   3.121760\n",
       "1    0        -5    10.293036  984.200317         32.696968   3.058262\n",
       "2    0        -5     9.844070  983.793335         33.539323   2.979188\n",
       "3    0        -5     9.457603  983.602722         34.166898   2.963390\n",
       "4    0        -5     9.112615  983.454895         34.658328   2.998623"
      ]
     },
     "execution_count": 28,
     "metadata": {},
     "output_type": "execute_result"
    }
   ],
   "source": [
    "df2.head()"
   ]
  },
  {
   "cell_type": "code",
   "execution_count": 29,
   "metadata": {
    "collapsed": true
   },
   "outputs": [],
   "source": [
    "from sklearn.model_selection import train_test_split\n",
    "\n",
    "df1 = (df1 - df1.mean()) / (df1.max() - df1.min())\n",
    "\n",
    "X=df1[['Temperature', 'Pressure', 'RelativeHumidity', 'WindSpeed','DewPoint']]\n",
    "\n",
    "\n",
    "Y=df1.GHI\n",
    "\n",
    "X_train, X_test, Y_train, Y_test= train_test_split(X, Y, random_state= 0)\n",
    "\n",
    "X1=df2[['Temperature', 'Pressure', 'RelativeHumidity', 'WindSpeed','DewPoint']]\n",
    "\n",
    "\n",
    "Y1=df2.GHI\n",
    "\n",
    "X1_train, X1_test, Y1_train, Y1_test= train_test_split(X1, Y1, random_state= 0)\n",
    "\n",
    "def model_score_error(model):\n",
    "    prepared_model=model.fit(X1_train, Y1_train)\n",
    "    x=prepared_model.score(X1_test,Y1_test)\n",
    "    print('Score: ',x)\n",
    "    Target_predicted=prepared_model.predict(X1_test) "
   ]
  },
  {
   "cell_type": "code",
   "execution_count": 30,
   "metadata": {},
   "outputs": [
    {
     "data": {
      "text/plain": [
       "(10950, 5)"
      ]
     },
     "execution_count": 30,
     "metadata": {},
     "output_type": "execute_result"
    }
   ],
   "source": [
    "X_test.shape"
   ]
  },
  {
   "cell_type": "code",
   "execution_count": 31,
   "metadata": {
    "collapsed": true
   },
   "outputs": [],
   "source": [
    "from sklearn.neural_network import MLPRegressor"
   ]
  },
  {
   "cell_type": "code",
   "execution_count": 32,
   "metadata": {},
   "outputs": [
    {
     "data": {
      "text/plain": [
       "(43800, 6)"
      ]
     },
     "execution_count": 32,
     "metadata": {},
     "output_type": "execute_result"
    }
   ],
   "source": [
    "df1.shape"
   ]
  },
  {
   "cell_type": "code",
   "execution_count": null,
   "metadata": {
    "collapsed": true
   },
   "outputs": [],
   "source": []
  },
  {
   "cell_type": "code",
   "execution_count": 33,
   "metadata": {},
   "outputs": [
    {
     "data": {
      "text/html": [
       "<div>\n",
       "<style>\n",
       "    .dataframe thead tr:only-child th {\n",
       "        text-align: right;\n",
       "    }\n",
       "\n",
       "    .dataframe thead th {\n",
       "        text-align: left;\n",
       "    }\n",
       "\n",
       "    .dataframe tbody tr th {\n",
       "        vertical-align: top;\n",
       "    }\n",
       "</style>\n",
       "<table border=\"1\" class=\"dataframe\">\n",
       "  <thead>\n",
       "    <tr style=\"text-align: right;\">\n",
       "      <th></th>\n",
       "      <th>GHI</th>\n",
       "      <th>DewPoint</th>\n",
       "      <th>Temperature</th>\n",
       "      <th>Pressure</th>\n",
       "      <th>RelativeHumidity</th>\n",
       "      <th>WindSpeed</th>\n",
       "    </tr>\n",
       "  </thead>\n",
       "  <tbody>\n",
       "    <tr>\n",
       "      <th>0</th>\n",
       "      <td>-0.235297</td>\n",
       "      <td>-0.271606</td>\n",
       "      <td>-0.348001</td>\n",
       "      <td>0.138924</td>\n",
       "      <td>-0.141665</td>\n",
       "      <td>0.069799</td>\n",
       "    </tr>\n",
       "    <tr>\n",
       "      <th>1</th>\n",
       "      <td>-0.235297</td>\n",
       "      <td>-0.271606</td>\n",
       "      <td>-0.358607</td>\n",
       "      <td>0.135472</td>\n",
       "      <td>-0.129848</td>\n",
       "      <td>0.061191</td>\n",
       "    </tr>\n",
       "    <tr>\n",
       "      <th>2</th>\n",
       "      <td>-0.235297</td>\n",
       "      <td>-0.271606</td>\n",
       "      <td>-0.368072</td>\n",
       "      <td>0.122474</td>\n",
       "      <td>-0.121386</td>\n",
       "      <td>0.050472</td>\n",
       "    </tr>\n",
       "    <tr>\n",
       "      <th>3</th>\n",
       "      <td>-0.235297</td>\n",
       "      <td>-0.271606</td>\n",
       "      <td>-0.376219</td>\n",
       "      <td>0.116386</td>\n",
       "      <td>-0.115081</td>\n",
       "      <td>0.048330</td>\n",
       "    </tr>\n",
       "    <tr>\n",
       "      <th>4</th>\n",
       "      <td>-0.235297</td>\n",
       "      <td>-0.271606</td>\n",
       "      <td>-0.383492</td>\n",
       "      <td>0.111665</td>\n",
       "      <td>-0.110144</td>\n",
       "      <td>0.053106</td>\n",
       "    </tr>\n",
       "  </tbody>\n",
       "</table>\n",
       "</div>"
      ],
      "text/plain": [
       "        GHI  DewPoint  Temperature  Pressure  RelativeHumidity  WindSpeed\n",
       "0 -0.235297 -0.271606    -0.348001  0.138924         -0.141665   0.069799\n",
       "1 -0.235297 -0.271606    -0.358607  0.135472         -0.129848   0.061191\n",
       "2 -0.235297 -0.271606    -0.368072  0.122474         -0.121386   0.050472\n",
       "3 -0.235297 -0.271606    -0.376219  0.116386         -0.115081   0.048330\n",
       "4 -0.235297 -0.271606    -0.383492  0.111665         -0.110144   0.053106"
      ]
     },
     "execution_count": 33,
     "metadata": {},
     "output_type": "execute_result"
    }
   ],
   "source": [
    "df1.head()"
   ]
  },
  {
   "cell_type": "code",
   "execution_count": null,
   "metadata": {
    "collapsed": true
   },
   "outputs": [],
   "source": []
  },
  {
   "cell_type": "code",
   "execution_count": 34,
   "metadata": {},
   "outputs": [
    {
     "data": {
      "text/html": [
       "<div>\n",
       "<style>\n",
       "    .dataframe thead tr:only-child th {\n",
       "        text-align: right;\n",
       "    }\n",
       "\n",
       "    .dataframe thead th {\n",
       "        text-align: left;\n",
       "    }\n",
       "\n",
       "    .dataframe tbody tr th {\n",
       "        vertical-align: top;\n",
       "    }\n",
       "</style>\n",
       "<table border=\"1\" class=\"dataframe\">\n",
       "  <thead>\n",
       "    <tr style=\"text-align: right;\">\n",
       "      <th></th>\n",
       "      <th>GHI</th>\n",
       "      <th>DewPoint</th>\n",
       "      <th>Temperature</th>\n",
       "      <th>Pressure</th>\n",
       "      <th>RelativeHumidity</th>\n",
       "      <th>WindSpeed</th>\n",
       "    </tr>\n",
       "  </thead>\n",
       "  <tbody>\n",
       "    <tr>\n",
       "      <th>0</th>\n",
       "      <td>0</td>\n",
       "      <td>-5</td>\n",
       "      <td>10.796184</td>\n",
       "      <td>984.308411</td>\n",
       "      <td>31.520793</td>\n",
       "      <td>3.121760</td>\n",
       "    </tr>\n",
       "    <tr>\n",
       "      <th>1</th>\n",
       "      <td>0</td>\n",
       "      <td>-5</td>\n",
       "      <td>10.293036</td>\n",
       "      <td>984.200317</td>\n",
       "      <td>32.696968</td>\n",
       "      <td>3.058262</td>\n",
       "    </tr>\n",
       "    <tr>\n",
       "      <th>2</th>\n",
       "      <td>0</td>\n",
       "      <td>-5</td>\n",
       "      <td>9.844070</td>\n",
       "      <td>983.793335</td>\n",
       "      <td>33.539323</td>\n",
       "      <td>2.979188</td>\n",
       "    </tr>\n",
       "    <tr>\n",
       "      <th>3</th>\n",
       "      <td>0</td>\n",
       "      <td>-5</td>\n",
       "      <td>9.457603</td>\n",
       "      <td>983.602722</td>\n",
       "      <td>34.166898</td>\n",
       "      <td>2.963390</td>\n",
       "    </tr>\n",
       "    <tr>\n",
       "      <th>4</th>\n",
       "      <td>0</td>\n",
       "      <td>-5</td>\n",
       "      <td>9.112615</td>\n",
       "      <td>983.454895</td>\n",
       "      <td>34.658328</td>\n",
       "      <td>2.998623</td>\n",
       "    </tr>\n",
       "  </tbody>\n",
       "</table>\n",
       "</div>"
      ],
      "text/plain": [
       "   GHI  DewPoint  Temperature    Pressure  RelativeHumidity  WindSpeed\n",
       "0    0        -5    10.796184  984.308411         31.520793   3.121760\n",
       "1    0        -5    10.293036  984.200317         32.696968   3.058262\n",
       "2    0        -5     9.844070  983.793335         33.539323   2.979188\n",
       "3    0        -5     9.457603  983.602722         34.166898   2.963390\n",
       "4    0        -5     9.112615  983.454895         34.658328   2.998623"
      ]
     },
     "execution_count": 34,
     "metadata": {},
     "output_type": "execute_result"
    }
   ],
   "source": [
    "df2.head()"
   ]
  },
  {
   "cell_type": "code",
   "execution_count": 35,
   "metadata": {},
   "outputs": [
    {
     "name": "stdout",
     "output_type": "stream",
     "text": [
      "Score:  0.510885515648\n"
     ]
    }
   ],
   "source": [
    "linreg= LinearRegression().fit(X_train, Y_train) \n",
    "print(\"Score: \",linreg.score(X,Y))\n",
    "Target_predicted= linreg.predict(X_test) "
   ]
  },
  {
   "cell_type": "code",
   "execution_count": 36,
   "metadata": {
    "collapsed": true
   },
   "outputs": [],
   "source": [
    "sub = pd.DataFrame()\n",
    "sub = sub.reset_index()\n",
    "sub['GHI'] = Target_predicted\n",
    "sub.to_csv('finalsubmission.csv',index=False)"
   ]
  },
  {
   "cell_type": "code",
   "execution_count": null,
   "metadata": {
    "collapsed": true
   },
   "outputs": [],
   "source": []
  },
  {
   "cell_type": "code",
   "execution_count": 37,
   "metadata": {},
   "outputs": [
    {
     "data": {
      "text/html": [
       "<div>\n",
       "<style>\n",
       "    .dataframe thead tr:only-child th {\n",
       "        text-align: right;\n",
       "    }\n",
       "\n",
       "    .dataframe thead th {\n",
       "        text-align: left;\n",
       "    }\n",
       "\n",
       "    .dataframe tbody tr th {\n",
       "        vertical-align: top;\n",
       "    }\n",
       "</style>\n",
       "<table border=\"1\" class=\"dataframe\">\n",
       "  <thead>\n",
       "    <tr style=\"text-align: right;\">\n",
       "      <th></th>\n",
       "      <th>GHI</th>\n",
       "      <th>DewPoint</th>\n",
       "      <th>Temperature</th>\n",
       "      <th>Pressure</th>\n",
       "      <th>RelativeHumidity</th>\n",
       "      <th>WindSpeed</th>\n",
       "    </tr>\n",
       "  </thead>\n",
       "  <tbody>\n",
       "    <tr>\n",
       "      <th>0</th>\n",
       "      <td>0</td>\n",
       "      <td>-5</td>\n",
       "      <td>10.796184</td>\n",
       "      <td>984.308411</td>\n",
       "      <td>31.520793</td>\n",
       "      <td>3.121760</td>\n",
       "    </tr>\n",
       "    <tr>\n",
       "      <th>1</th>\n",
       "      <td>0</td>\n",
       "      <td>-5</td>\n",
       "      <td>10.293036</td>\n",
       "      <td>984.200317</td>\n",
       "      <td>32.696968</td>\n",
       "      <td>3.058262</td>\n",
       "    </tr>\n",
       "    <tr>\n",
       "      <th>2</th>\n",
       "      <td>0</td>\n",
       "      <td>-5</td>\n",
       "      <td>9.844070</td>\n",
       "      <td>983.793335</td>\n",
       "      <td>33.539323</td>\n",
       "      <td>2.979188</td>\n",
       "    </tr>\n",
       "    <tr>\n",
       "      <th>3</th>\n",
       "      <td>0</td>\n",
       "      <td>-5</td>\n",
       "      <td>9.457603</td>\n",
       "      <td>983.602722</td>\n",
       "      <td>34.166898</td>\n",
       "      <td>2.963390</td>\n",
       "    </tr>\n",
       "    <tr>\n",
       "      <th>4</th>\n",
       "      <td>0</td>\n",
       "      <td>-5</td>\n",
       "      <td>9.112615</td>\n",
       "      <td>983.454895</td>\n",
       "      <td>34.658328</td>\n",
       "      <td>2.998623</td>\n",
       "    </tr>\n",
       "  </tbody>\n",
       "</table>\n",
       "</div>"
      ],
      "text/plain": [
       "   GHI  DewPoint  Temperature    Pressure  RelativeHumidity  WindSpeed\n",
       "0    0        -5    10.796184  984.308411         31.520793   3.121760\n",
       "1    0        -5    10.293036  984.200317         32.696968   3.058262\n",
       "2    0        -5     9.844070  983.793335         33.539323   2.979188\n",
       "3    0        -5     9.457603  983.602722         34.166898   2.963390\n",
       "4    0        -5     9.112615  983.454895         34.658328   2.998623"
      ]
     },
     "execution_count": 37,
     "metadata": {},
     "output_type": "execute_result"
    }
   ],
   "source": [
    "df2.head()"
   ]
  },
  {
   "cell_type": "code",
   "execution_count": 38,
   "metadata": {},
   "outputs": [
    {
     "name": "stdout",
     "output_type": "stream",
     "text": [
      "Score:  0.565723554197\n"
     ]
    }
   ],
   "source": [
    "MLP = MLPRegressor(activation='relu', alpha=10, batch_size='auto', beta_1=0.9,\n",
    "       beta_2=0.999, early_stopping=False, epsilon=1e-08,\n",
    "       hidden_layer_sizes=(500,), learning_rate='constant',\n",
    "       learning_rate_init=0.0001, max_iter=2000, momentum=0.9,\n",
    "       nesterovs_momentum=True, power_t=0.5, random_state=None,\n",
    "       shuffle=True, solver='adam', tol=0.0001, validation_fraction=0.1,\n",
    "       verbose=False, warm_start=False)\n",
    "\n",
    "model_score_error(MLP)"
   ]
  },
  {
   "cell_type": "code",
   "execution_count": 29,
   "metadata": {
    "collapsed": true
   },
   "outputs": [],
   "source": [
    "sub = pd.DataFrame()\n",
    "sub = sub.reset_index()\n",
    "sub['Radiation'] = Target_predicted\n",
    "sub.to_csv('submission1MLP.csv',index=False)"
   ]
  },
  {
   "cell_type": "code",
   "execution_count": null,
   "metadata": {
    "collapsed": true
   },
   "outputs": [],
   "source": []
  },
  {
   "cell_type": "code",
   "execution_count": null,
   "metadata": {
    "collapsed": true
   },
   "outputs": [],
   "source": []
  },
  {
   "cell_type": "code",
   "execution_count": null,
   "metadata": {
    "collapsed": true
   },
   "outputs": [],
   "source": []
  }
 ],
 "metadata": {
  "kernelspec": {
   "display_name": "Python 3",
   "language": "python",
   "name": "python3"
  },
  "language_info": {
   "codemirror_mode": {
    "name": "ipython",
    "version": 3
   },
   "file_extension": ".py",
   "mimetype": "text/x-python",
   "name": "python",
   "nbconvert_exporter": "python",
   "pygments_lexer": "ipython3",
   "version": "3.5.4"
  }
 },
 "nbformat": 4,
 "nbformat_minor": 2
}
